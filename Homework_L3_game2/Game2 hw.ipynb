{
 "cells": [
  {
   "cell_type": "code",
   "execution_count": 190,
   "metadata": {},
   "outputs": [],
   "source": [
    "#L2HW(Game 2)\n",
    "def get_user1_input(remaining_round):\n",
    "    while True:\n",
    "        player1_input_vert_str = input(\"Player1, please enter 0-2 in the vertical direction:(remaining round:{})\".format(remaining_round))\n",
    "        player1_input_hort_str = input(\"Player1, please enter 0-2 in the horizontal direction:,(remaining round:{})\".format(remaining_round))\n",
    "        if player1_input_vert_str.isdigit():\n",
    "            player1_input_vert_int = int(player1_input_vert_str)\n",
    "        if player1_input_hort_str.isdigit():\n",
    "            player1_input_hort_int = int(player1_input_hort_str)\n",
    "            if (player1_input_vert_int >= 0 and player1_input_vert_int <= 2) and (player1_input_hort_int >= 0 and player1_input_hort_int <= 2):\n",
    "                gameboard[(player1_input_vert_int,player1_input_hort_int)] = player1\n",
    "                print(gameboard)\n",
    "#                 if (player1_input_vert_int,player1_input_hort_int) != (player2_input_vert_int,player2_input_hort_int)\n",
    "                return(player1_input_vert_int,player1_input_hort_int)\n",
    "            else:\n",
    "                print('Please input an integer in a vaild range')\n",
    "                continue"
   ]
  },
  {
   "cell_type": "code",
   "execution_count": 191,
   "metadata": {},
   "outputs": [],
   "source": [
    "def get_user2_input(remaining_round):\n",
    "    while True:\n",
    "        player2_input_vert_str = input(\"Player2, please enter 0-2 in the vertical direction:,(remaining round:{})\".format(remaining_round))\n",
    "        player2_input_hort_str = input(\"Player2, please enter 0-2 in the horizontal direction:,(remaining round:{})\".format(remaining_round))\n",
    "        if player2_input_vert_str.isdigit():\n",
    "            player2_input_vert_int = int(player2_input_vert_str)\n",
    "        if player2_input_hort_str.isdigit():\n",
    "            player2_input_hort_int = int(player2_input_hort_str)\n",
    "            if (player2_input_vert_int >= 0 and player2_input_vert_int <= 2) and (player2_input_hort_int >= 0 and player2_input_hort_int <= 2):\n",
    "                gameboard[(player2_input_vert_int,player2_input_hort_int)] = player2\n",
    "                print(gameboard)\n",
    "#                 if (player1_input_vert_int,player1_input_hort_int) != (player2_input_vert_int,player2_input_hort_int):\n",
    "                return(player2_input_vert_int,player2_input_hort_int)\n",
    "            else:\n",
    "                print('Please input an integer in a vaild range')\n",
    "                continue"
   ]
  },
  {
   "cell_type": "code",
   "execution_count": 192,
   "metadata": {},
   "outputs": [],
   "source": [
    "def check_ans_player1():\n",
    "    #case1: X case\n",
    "    if (a + e + i) or (c+ e +g) == 3:\n",
    "        player1_isWin = True\n",
    "    #case2: cross case\n",
    "    elif (b + e + h) or (d + e + f) == 3:\n",
    "        player1_isWin = True\n",
    "    #case3: row and column case\n",
    "    elif (a + b + c) or (a + d + g) or (g + h + i) or (c + f + i) == 3:\n",
    "        player1_isWin = True\n",
    "    else:\n",
    "        player1_isWin = False\n",
    "    return(player1_isWin)"
   ]
  },
  {
   "cell_type": "code",
   "execution_count": 193,
   "metadata": {},
   "outputs": [],
   "source": [
    "def check_ans_player2():\n",
    "    #case1: X case\n",
    "    if (a + e + i) or (c+ e +g) == 6:\n",
    "        player2_isWin = True\n",
    "    #case2: cross case\n",
    "    elif (b + e + h) or (d + e + f) == 6:\n",
    "        player2_isWin = True\n",
    "    #case3: row and column case\n",
    "    elif (a + b + c) or (a + d + g) or (g + h + i) or (c + f + i) == 6:\n",
    "        player2_isWin = True\n",
    "    else:\n",
    "        player2_isWin = False\n",
    "    return(player2_isWin)"
   ]
  },
  {
   "cell_type": "code",
   "execution_count": 195,
   "metadata": {},
   "outputs": [
    {
     "name": "stdin",
     "output_type": "stream",
     "text": [
      "Player1, please enter 0-2 in the vertical direction:(remaining round:5) 0\n",
      "Player1, please enter 0-2 in the horizontal direction:,(remaining round:5) 0\n"
     ]
    },
    {
     "name": "stdout",
     "output_type": "stream",
     "text": [
      "[[1. 0. 0.]\n",
      " [0. 0. 0.]\n",
      " [0. 0. 0.]]\n"
     ]
    },
    {
     "name": "stdin",
     "output_type": "stream",
     "text": [
      "Player2, please enter 0-2 in the vertical direction:,(remaining round:5) 2\n",
      "Player2, please enter 0-2 in the horizontal direction:,(remaining round:5) 1\n"
     ]
    },
    {
     "name": "stdout",
     "output_type": "stream",
     "text": [
      "[[1. 0. 0.]\n",
      " [0. 0. 0.]\n",
      " [0. 2. 0.]]\n"
     ]
    },
    {
     "name": "stdin",
     "output_type": "stream",
     "text": [
      "Player1, please enter 0-2 in the vertical direction:(remaining round:4) 1\n",
      "Player1, please enter 0-2 in the horizontal direction:,(remaining round:4) 1\n"
     ]
    },
    {
     "name": "stdout",
     "output_type": "stream",
     "text": [
      "[[1. 0. 0.]\n",
      " [0. 1. 0.]\n",
      " [0. 2. 0.]]\n"
     ]
    },
    {
     "name": "stdin",
     "output_type": "stream",
     "text": [
      "Player2, please enter 0-2 in the vertical direction:,(remaining round:4) 2\n",
      "Player2, please enter 0-2 in the horizontal direction:,(remaining round:4) 0\n"
     ]
    },
    {
     "name": "stdout",
     "output_type": "stream",
     "text": [
      "[[1. 0. 0.]\n",
      " [0. 1. 0.]\n",
      " [2. 2. 0.]]\n",
      "Player1 win~~~\n"
     ]
    }
   ],
   "source": [
    "#Assumptions\n",
    "import numpy as np\n",
    "k = 3\n",
    "m = 5\n",
    "gameboard = np.zeros((k,k))\n",
    "player1 = 1\n",
    "player2 = 2\n",
    "a = gameboard[(0,0)]\n",
    "b = gameboard[(0,1)]\n",
    "c = gameboard[(0,2)]\n",
    "d = gameboard[(1,0)]\n",
    "e = gameboard[(1,1)]\n",
    "f = gameboard[(1,2)]\n",
    "g = gameboard[(2,0)]\n",
    "h = gameboard[(2,1)]\n",
    "i = gameboard[(2,2)]\n",
    "for i in range(m):\n",
    "    #move 1: save location of player1\n",
    "    player1_input_vert, player1_input_hort = get_user1_input(m-i)\n",
    "    #move 2: save location of player2, continute until move 9\n",
    "    player2_input_vert, player2_input_hort = get_user2_input(m-i)\n",
    "    if i == 0 or 2:\n",
    "        player1_isWin = check_ans_player1()\n",
    "        if player1_isWin:\n",
    "            print('Player1 win~~~')\n",
    "            break\n",
    "    elif i == 1:\n",
    "        player2_isWin = check_ans_player2()\n",
    "        if player2_isWin:\n",
    "            print('Player2 win~~~')\n",
    "            break\n",
    "else:\n",
    "    print('-------Draw-------')"
   ]
  }
 ],
 "metadata": {
  "kernelspec": {
   "display_name": "Python 3",
   "language": "python",
   "name": "python3"
  },
  "language_info": {
   "codemirror_mode": {
    "name": "ipython",
    "version": 3
   },
   "file_extension": ".py",
   "mimetype": "text/x-python",
   "name": "python",
   "nbconvert_exporter": "python",
   "pygments_lexer": "ipython3",
   "version": "3.8.5"
  }
 },
 "nbformat": 4,
 "nbformat_minor": 4
}
